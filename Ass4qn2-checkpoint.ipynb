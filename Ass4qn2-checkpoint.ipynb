{
 "cells": [
  {
   "cell_type": "code",
   "execution_count": 7,
   "id": "a7aeda88",
   "metadata": {},
   "outputs": [
    {
     "name": "stdout",
     "output_type": "stream",
     "text": [
      "Enter a list:1 2 3 4 5 6 7\n",
      "Triple of given list of integers is : [3, 6, 9, 12, 15, 18, 21]\n"
     ]
    }
   ],
   "source": [
    "input_list=list(map(int,input(\"Enter a list:\").split()))#takes input from the user\n",
    "def triple_numbers(num):\n",
    "    return num*3\n",
    "triple_num=list(map(triple_numbers,input_list))\n",
    "print(\"Triple of given list of integers is :\",triple_num)"
   ]
  },
  {
   "cell_type": "code",
   "execution_count": null,
   "id": "a940fade",
   "metadata": {},
   "outputs": [],
   "source": []
  }
 ],
 "metadata": {
  "kernelspec": {
   "display_name": "Python 3 (ipykernel)",
   "language": "python",
   "name": "python3"
  },
  "language_info": {
   "codemirror_mode": {
    "name": "ipython",
    "version": 3
   },
   "file_extension": ".py",
   "mimetype": "text/x-python",
   "name": "python",
   "nbconvert_exporter": "python",
   "pygments_lexer": "ipython3",
   "version": "3.9.7"
  }
 },
 "nbformat": 4,
 "nbformat_minor": 5
}
